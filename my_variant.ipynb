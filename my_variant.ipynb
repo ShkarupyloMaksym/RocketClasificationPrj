{
 "cells": [
  {
   "cell_type": "code",
   "execution_count": 1,
   "metadata": {
    "collapsed": true
   },
   "outputs": [],
   "source": [
    "import os\n",
    "\n",
    "import cv2\n",
    "from pylab import *\n",
    "%matplotlib inline\n",
    "import numpy as np\n",
    "from keras.layers import Input, concatenate, BatchNormalization, Conv2D, MaxPooling2D, Flatten, Dense, Dropout\n",
    "from keras.models import Model, Sequential\n",
    "from keras.utils import np_utils\n",
    "from keras.optimizers import SGD\n",
    "from keras.callbacks import LearningRateScheduler\n",
    "from keras.preprocessing.image import ImageDataGenerator\n",
    "from keras.applications import vgg16\n",
    "from keras.optimizers import Adam, SGD\n",
    "from sklearn.utils import shuffle\n",
    "import keras\n",
    "import tensorflow as tf"
   ]
  },
  {
   "cell_type": "markdown",
   "source": [
    "Імпорт даних"
   ],
   "metadata": {
    "collapsed": false
   }
  },
  {
   "cell_type": "code",
   "execution_count": 2,
   "outputs": [],
   "source": [
    "test_path = 'dataset_1/test'\n",
    "validation_path = 'dataset/validation'\n",
    "train_path = 'dataset/train'\n",
    "\n",
    "class_names = ['with', 'without']\n",
    "\n",
    "photo_size = (700,300)"
   ],
   "metadata": {
    "collapsed": false
   }
  },
  {
   "cell_type": "code",
   "execution_count": 3,
   "outputs": [
    {
     "name": "stdout",
     "output_type": "stream",
     "text": [
      "Found 60 images belonging to 2 classes.\n",
      "Found 20 images belonging to 2 classes.\n",
      "Found 63 images belonging to 2 classes.\n"
     ]
    }
   ],
   "source": [
    "from keras.preprocessing.image import ImageDataGenerator\n",
    "\n",
    "# ImageDataGenerator generates batches of tensor image data with real-time data augmentation.\n",
    "# The data will be looped over (in batches).\n",
    "# in this example, we won't be doing any image augmentation\n",
    "# datagen = ImageDataGenerator(rescale=1.0/255.0, samplewise_center=True, samplewise_std_normalization=True,validation_split=0.99)\n",
    "f = lambda x : (x-128)/255\n",
    "# f = lambda x: x\n",
    "train_batches = ImageDataGenerator(preprocessing_function=f).flow_from_directory(train_path,\n",
    "                                                         target_size=photo_size,\n",
    "                                                         batch_size=32)\n",
    "\n",
    "valid_batches = ImageDataGenerator(preprocessing_function=f).flow_from_directory(validation_path,\n",
    "                                                         target_size=photo_size,\n",
    "                                                         batch_size=32)\n",
    "\n",
    "test_batches = ImageDataGenerator(preprocessing_function=f).flow_from_directory(test_path,\n",
    "                                                        target_size=photo_size,\n",
    "                                                        batch_size=10,\n",
    "                                                        shuffle=False)"
   ],
   "metadata": {
    "collapsed": false
   }
  },
  {
   "cell_type": "markdown",
   "source": [
    "Start the network"
   ],
   "metadata": {
    "collapsed": false
   }
  },
  {
   "cell_type": "code",
   "execution_count": 9,
   "outputs": [
    {
     "name": "stdout",
     "output_type": "stream",
     "text": [
      "Model: \"sequential_5\"\n",
      "____________________________________________________________________________________________________\n",
      " Layer (type)                                Output Shape                            Param #        \n",
      "====================================================================================================\n",
      " batch_normalization_5 (BatchNormalization)  (None, 700, 300, 3)                     12             \n",
      "                                                                                                    \n",
      " conv2d_44 (Conv2D)                          (None, 700, 300, 64)                    4864           \n",
      "                                                                                                    \n",
      " conv2d_45 (Conv2D)                          (None, 700, 300, 64)                    36928          \n",
      "                                                                                                    \n",
      " max_pooling2d_22 (MaxPooling2D)             (None, 350, 150, 64)                    0              \n",
      "                                                                                                    \n",
      " dropout_25 (Dropout)                        (None, 350, 150, 64)                    0              \n",
      "                                                                                                    \n",
      " conv2d_46 (Conv2D)                          (None, 350, 150, 128)                   204928         \n",
      "                                                                                                    \n",
      " conv2d_47 (Conv2D)                          (None, 350, 150, 128)                   147584         \n",
      "                                                                                                    \n",
      " max_pooling2d_23 (MaxPooling2D)             (None, 175, 75, 128)                    0              \n",
      "                                                                                                    \n",
      " dropout_26 (Dropout)                        (None, 175, 75, 128)                    0              \n",
      "                                                                                                    \n",
      " conv2d_48 (Conv2D)                          (None, 175, 75, 256)                    819456         \n",
      "                                                                                                    \n",
      " conv2d_49 (Conv2D)                          (None, 175, 75, 256)                    590080         \n",
      "                                                                                                    \n",
      " max_pooling2d_24 (MaxPooling2D)             (None, 87, 37, 256)                     0              \n",
      "                                                                                                    \n",
      " dropout_27 (Dropout)                        (None, 87, 37, 256)                     0              \n",
      "                                                                                                    \n",
      " conv2d_50 (Conv2D)                          (None, 87, 37, 512)                     3277312        \n",
      "                                                                                                    \n",
      " conv2d_51 (Conv2D)                          (None, 87, 37, 512)                     2359808        \n",
      "                                                                                                    \n",
      " max_pooling2d_25 (MaxPooling2D)             (None, 43, 18, 512)                     0              \n",
      "                                                                                                    \n",
      " flatten_5 (Flatten)                         (None, 396288)                          0              \n",
      "                                                                                                    \n",
      " dropout_28 (Dropout)                        (None, 396288)                          0              \n",
      "                                                                                                    \n",
      " dropout_29 (Dropout)                        (None, 396288)                          0              \n",
      "                                                                                                    \n",
      " dense_8 (Dense)                             (None, 2)                               792578         \n",
      "                                                                                                    \n",
      "====================================================================================================\n",
      "Total params: 8,233,550\n",
      "Trainable params: 8,233,544\n",
      "Non-trainable params: 6\n",
      "____________________________________________________________________________________________________\n"
     ]
    }
   ],
   "source": [
    "dropout_rate = 0.2\n",
    "\n",
    "model = Sequential()\n",
    "\n",
    "model.add(BatchNormalization(input_shape=(photo_size[0],photo_size[1],3)))\n",
    "model.add(Conv2D(64, (5,5), padding='same', activation='relu'))\n",
    "model.add(Conv2D(64, (3,3), padding='same', activation='relu'))\n",
    "model.add(MaxPooling2D(pool_size=(2,2)))\n",
    "# model.add(BatchNormalization())\n",
    "model.add(Dropout(dropout_rate))\n",
    "model.add(Conv2D(128, (5,5), padding='same', activation='relu'))\n",
    "model.add(Conv2D(128, (3,3), padding='same', activation='relu'))\n",
    "model.add(MaxPooling2D(pool_size=(2,2)))\n",
    "# model.add(BatchNormalization())\n",
    "model.add(Dropout(dropout_rate))\n",
    "\n",
    "model.add(Conv2D(256, (5,5), padding='same', activation='relu'))\n",
    "model.add(Conv2D(256, (3,3), padding='same', activation='relu'))\n",
    "model.add(MaxPooling2D(pool_size=(2,2)))\n",
    "# model.add(BatchNormalization())\n",
    "model.add(Dropout(dropout_rate))\n",
    "model.add(Conv2D(512, (5,5), padding='same', activation='relu'))\n",
    "model.add(Conv2D(512, (3,3), padding='same', activation='relu'))\n",
    "model.add(MaxPooling2D(pool_size=(2,2)))\n",
    "# model.add(BatchNormalization())\n",
    "# model.add(Conv2D(1024, (5,5), padding='same', activation='relu'))\n",
    "# model.add(Conv2D(1024, (3,3), padding='same', activation='relu'))\n",
    "# model.add(MaxPooling2D(pool_size=(2,2)))\n",
    "# model.add(BatchNormalization())\n",
    "\n",
    "model.add(Flatten())\n",
    "model.add(Dropout(dropout_rate))\n",
    "# model.add(Dense(100, activation='relu'))\n",
    "model.add(Dropout(dropout_rate))\n",
    "model.add(Dense(2,activation='softmax'))\n",
    "\n",
    "model.summary(line_length = 100)"
   ],
   "metadata": {
    "collapsed": false
   }
  },
  {
   "cell_type": "code",
   "execution_count": 9,
   "outputs": [],
   "source": [
    "# model.compile(loss='categorical_crossentropy', optimizer='rmsprop',\n",
    "#               metrics=['accuracy'])"
   ],
   "metadata": {
    "collapsed": false
   }
  },
  {
   "cell_type": "code",
   "execution_count": 9,
   "outputs": [],
   "source": [],
   "metadata": {
    "collapsed": false
   }
  },
  {
   "cell_type": "code",
   "execution_count": null,
   "outputs": [
    {
     "name": "stderr",
     "output_type": "stream",
     "text": [
      "/home/maximus/anaconda3/lib/python3.9/site-packages/keras/optimizers/optimizer_v2/adam.py:110: UserWarning: The `lr` argument is deprecated, use `learning_rate` instead.\n",
      "  super(Adam, self).__init__(name, **kwargs)\n",
      "/tmp/ipykernel_4789/3415573829.py:14: UserWarning: `Model.fit_generator` is deprecated and will be removed in a future version. Please use `Model.fit`, which supports generators.\n",
      "  history = model.fit_generator(train_batches, callbacks=[checkpointer], epochs=epochs, verbose=2, validation_data=(valid_batches))\n"
     ]
    },
    {
     "name": "stdout",
     "output_type": "stream",
     "text": [
      "Epoch 1/15\n",
      "\n",
      "Epoch 1: val_loss improved from inf to 1.21213, saving model to model.125epochs.hdf5\n",
      "2/2 - 104s - loss: 0.6900 - accuracy: 0.5500 - val_loss: 1.2121 - val_accuracy: 0.5000 - 104s/epoch - 52s/step\n",
      "Epoch 2/15\n",
      "\n",
      "Epoch 2: val_loss improved from 1.21213 to 0.69370, saving model to model.125epochs.hdf5\n",
      "2/2 - 95s - loss: 6.3293 - accuracy: 0.5667 - val_loss: 0.6937 - val_accuracy: 0.5000 - 95s/epoch - 48s/step\n",
      "Epoch 3/15\n",
      "\n",
      "Epoch 3: val_loss improved from 0.69370 to 0.69308, saving model to model.125epochs.hdf5\n",
      "2/2 - 78s - loss: 0.7161 - accuracy: 0.5000 - val_loss: 0.6931 - val_accuracy: 0.5000 - 78s/epoch - 39s/step\n",
      "Epoch 4/15\n",
      "\n",
      "Epoch 4: val_loss did not improve from 0.69308\n",
      "2/2 - 82s - loss: 0.6898 - accuracy: 0.5333 - val_loss: 0.6931 - val_accuracy: 0.5000 - 82s/epoch - 41s/step\n",
      "Epoch 5/15\n",
      "\n",
      "Epoch 5: val_loss improved from 0.69308 to 0.69305, saving model to model.125epochs.hdf5\n",
      "2/2 - 80s - loss: 0.6917 - accuracy: 0.5000 - val_loss: 0.6931 - val_accuracy: 0.5000 - 80s/epoch - 40s/step\n",
      "Epoch 6/15\n",
      "\n",
      "Epoch 6: val_loss did not improve from 0.69305\n",
      "2/2 - 77s - loss: 0.6852 - accuracy: 0.5000 - val_loss: 0.6932 - val_accuracy: 0.5000 - 77s/epoch - 39s/step\n",
      "Epoch 7/15\n",
      "\n",
      "Epoch 7: val_loss did not improve from 0.69305\n",
      "2/2 - 78s - loss: 0.6794 - accuracy: 0.5500 - val_loss: 0.6932 - val_accuracy: 0.5000 - 78s/epoch - 39s/step\n",
      "Epoch 8/15\n",
      "\n",
      "Epoch 8: val_loss did not improve from 0.69305\n",
      "2/2 - 78s - loss: 0.6750 - accuracy: 0.5000 - val_loss: 0.6952 - val_accuracy: 0.5000 - 78s/epoch - 39s/step\n",
      "Epoch 9/15\n"
     ]
    }
   ],
   "source": [
    "from tensorflow import keras\n",
    "\n",
    "# training\n",
    "# batch_size = 64\n",
    "epochs=15\n",
    "\n",
    "from keras.callbacks import ModelCheckpoint\n",
    "\n",
    "checkpointer = ModelCheckpoint(filepath='model.125epochs.hdf5', verbose=1, save_best_only=True)\n",
    "\n",
    "optimizer = keras.optimizers.Adam(lr=0.0005, decay=1e-5)\n",
    "# mse > crossentropy\n",
    "model.compile(loss='categorical_crossentropy', optimizer=optimizer, metrics=['accuracy'])\n",
    "history = model.fit_generator(train_batches, callbacks=[checkpointer], epochs=epochs, verbose=2, validation_data=(valid_batches))"
   ],
   "metadata": {
    "collapsed": false,
    "pycharm": {
     "is_executing": true
    }
   }
  },
  {
   "cell_type": "code",
   "execution_count": null,
   "outputs": [],
   "source": [
    "# load the weights that yielded the best validation accuracy\n",
    "model.load_weights('model.125epochs.hdf5')"
   ],
   "metadata": {
    "collapsed": false,
    "pycharm": {
     "is_executing": true
    }
   }
  },
  {
   "cell_type": "code",
   "execution_count": 16,
   "outputs": [
    {
     "name": "stdout",
     "output_type": "stream",
     "text": [
      "Test accuracy: 43.8596%\n"
     ]
    }
   ],
   "source": [
    "# evaluate test accuracy\n",
    "score = model.evaluate(x_test,y_test, verbose=0)\n",
    "accuracy = 100*score[1]\n",
    "\n",
    "# print test accuracy\n",
    "print('Test accuracy: %.4f%%' % accuracy)"
   ],
   "metadata": {
    "collapsed": false
   }
  },
  {
   "cell_type": "code",
   "execution_count": 17,
   "outputs": [
    {
     "data": {
      "text/plain": "<Figure size 640x480 with 1 Axes>",
      "image/png": "[encoded data removed]"
     },
     "metadata": {},
     "output_type": "display_data"
    }
   ],
   "source": [
    "from matplotlib import pyplot\n",
    "\n",
    "pyplot.plot(history.history['accuracy'], label='train')\n",
    "pyplot.plot(history.history['val_accuracy'], label='test')\n",
    "pyplot.legend()\n",
    "pyplot.show()"
   ],
   "metadata": {
    "collapsed": false
   }
  }
 ],
 "metadata": {
  "kernelspec": {
   "display_name": "Python 3",
   "language": "python",
   "name": "python3"
  },
  "language_info": {
   "codemirror_mode": {
    "name": "ipython",
    "version": 2
   },
   "file_extension": ".py",
   "mimetype": "text/x-python",
   "name": "python",
   "nbconvert_exporter": "python",
   "pygments_lexer": "ipython2",
   "version": "2.7.6"
  }
 },
 "nbformat": 4,
 "nbformat_minor": 0
}
